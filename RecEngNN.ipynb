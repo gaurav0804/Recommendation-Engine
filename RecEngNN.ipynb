{
 "cells": [
  {
   "cell_type": "code",
   "execution_count": 1,
   "metadata": {},
   "outputs": [
    {
     "name": "stderr",
     "output_type": "stream",
     "text": [
      "Using TensorFlow backend.\n"
     ]
    }
   ],
   "source": [
    "from keras.models import load_model\n",
    "from keras import regularizers\n",
    "import pandas as pd\n",
    "import numpy as np\n",
    "from keras.models import Sequential, Model\n",
    "from keras.layers import Embedding, Reshape, Activation, Input, Dense, Flatten, Dropout\n",
    "from keras.layers.merge import Dot, multiply, concatenate\n",
    "from keras.utils import np_utils\n",
    "from keras.utils.data_utils import get_file\n",
    "from keras.preprocessing.text import Tokenizer\n",
    "from keras.preprocessing.sequence import skipgrams\n",
    "from collections import defaultdict\n",
    "import pandas as pd\n",
    "from sklearn.model_selection import train_test_split\n",
    "import numba as nb\n"
   ]
  },
  {
   "cell_type": "code",
   "execution_count": 2,
   "metadata": {},
   "outputs": [],
   "source": [
    "class read_train_model():\n",
    "    \n",
    "    def __init__(self,data_path):\n",
    "        self.data_path=data_path\n",
    "        self.df_in=pd.DataFrame()\n",
    "        self.df_train=pd.DataFrame()\n",
    "        self.df_test=pd.DataFrame()\n",
    "        self.n_user=0\n",
    "        self.n_posts=0\n",
    "        \n",
    "    def read_data(self):\n",
    "        self.df_in = pd.read_csv(self.data_path,sep='|')\n",
    "        self.df_in.loc[self.df_in.Likes>0,'Likes']=1\n",
    "        self.df_in.loc[self.df_in.Comments>0,'Comments']=1\n",
    "        self.df_in.loc[self.df_in.Shares>0,'Shares']=1\n",
    "        self.df_in.loc[self.df_in.Downloads>0,'Downloads']=1\n",
    "        self.df_in.loc[self.df_in.Views>0,'Views']=1\n",
    "\n",
    "        self.df_in['Rating']=self.df_in['Likes']+self.df_in['Comments']+self.df_in['Shares']+self.df_in['Downloads']+self.df_in['Views']\n",
    "        self.df_in.drop(['Likes','Comments','Shares','Downloads','Views'],axis=1,inplace=True)\n",
    "    \n",
    "        self.df_in.UserId = self.df_in.UserId.astype('category').cat.codes.values\n",
    "        self.df_in.PostId = self.df_in.PostId.astype('category').cat.codes.values\n",
    "\n",
    "        self.df_train,self.df_test =train_test_split(self.df_in, test_size = 0.1,random_state = 42 )\n",
    "\n",
    "        self.n_users = len(self.df_in.UserId.unique()) \n",
    "        self.n_posts = len(self.df_in.PostId.unique())\n",
    "        \n",
    "    \n",
    "    \n",
    "    def user_post_ids(self):\n",
    "        dff = pd.read_csv(self.data_path,sep=\"|\")\n",
    "        dff.loc[dff.Likes>0,'Likes']=1\n",
    "        dff.loc[dff.Comments>0,'Comments']=1\n",
    "        dff.loc[dff.Shares>0,'Shares']=1\n",
    "        dff.loc[dff.Downloads>0,'Downloads']=1\n",
    "        dff.loc[dff.Views>0,'Views']=1\n",
    "\n",
    "        dff['Rating']=dff['Likes']+dff['Comments']+dff['Shares']+dff['Downloads']+dff['Views']\n",
    "        dff.drop(['Likes','Comments','Shares','Downloads','Views'],axis=1,inplace=True)\n",
    "        trainn,testt = train_test_split(dff,test_size = 0.1,random_state =42)\n",
    "        \n",
    "        return trainn, testt\n",
    "\n",
    "\n",
    "    def define_model(self):\n",
    "        post_input = Input(shape=[1], name=\"post-Input\")\n",
    "        post_embedding = Embedding(self.n_posts+1,10,  name=\"post-Embedding\")(post_input)\n",
    "        lp = Dense(10,activation = 'relu',kernel_regularizer=regularizers.l2(0.001),)(post_embedding)\n",
    "        Dropout(0.4)\n",
    "        post_vec = Flatten(name=\"Flatten-post\")(lp)\n",
    "\n",
    "        user_input = Input(shape=[1], name=\"User-Input\")\n",
    "        user_embedding = Embedding(self.n_users+1, 10, name=\"User-Embedding\")(user_input)\n",
    "        l2 = Dense(10,activation = 'relu',kernel_regularizer=regularizers.l2(0.001))(user_embedding)\n",
    "        Dropout(0.4)\n",
    "        user_vec = Flatten(name=\"Flatten-Users\")(l2)\n",
    "\n",
    "        product_layer = Dot(name=\"Dot-Product\", axes=1)([post_vec, user_vec])\n",
    "\n",
    "        fully_connected_layer = Dense(10,activation ='relu')(product_layer)\n",
    "        fully_connected_layer_2 = Dense(10,activation ='relu')(fully_connected_layer)\n",
    "        fully_connected_layer_3 = Dense(10,activation ='relu')(fully_connected_layer_2)\n",
    "        fully_connected_layer_4 = Dense(10,activation ='relu')(fully_connected_layer_3)\n",
    "\n",
    "\n",
    "        output_connected_layer = Dense(1,activation ='linear')(fully_connected_layer_4)\n",
    "\n",
    "        model = Model([user_input, post_input],output_connected_layer)\n",
    "        model.compile(loss='mse', optimizer='adam', metrics=[\"mae\"])\n",
    "        return model\n",
    "    \n",
    "    def train_model(self):\n",
    "        model =self.define_model()\n",
    "        history = model.fit([self.df_train.UserId, self.df_train.PostId], self.df_train.Rating,validation_split=0.1 , epochs= 1, verbose=1)\n",
    "        model.save('recommender_model.h5')\n",
    "        return history\n",
    "    \n",
    "    def get_model(self):\n",
    "        model = load_model('recommender_model.h5')\n",
    "        print('model loaded')\n",
    "        return model\n",
    "    \n",
    "    \n",
    "    def get_estimation_data(self):\n",
    "        def duplicate(testList,n ): \n",
    "            return list(testList*n)\n",
    "                \n",
    "        n_users,n_posts,train,test=self.n_user,self.n_posts,self.df_train,self.df_test\n",
    "        trainn,testt=self.user_post_ids()\n",
    "        len_post = len(test.PostId.unique())\n",
    "        len_user= len(testt.UserId.unique())\n",
    "        p = test.PostId.unique()\n",
    "        unique_postids = p.tolist()\n",
    "        upids=duplicate(unique_postids,len_user) #post_ids_looped\n",
    "\n",
    "\n",
    "        u =test.UserId.unique()\n",
    "        unique_userids =u.tolist()\n",
    "        un = np.array(unique_userids)\n",
    "        user_loop =np.repeat(unique_userids,len_post) #user_ids_looped\n",
    "        ttpids = testt['PostId'].unique()\n",
    "        ttuid = testt['UserId'].unique()\n",
    "        pp = testt.PostId.unique()\n",
    "        uunique_postids = pp.tolist()\n",
    "        uupids=duplicate(uunique_postids,len_user) #post_ids_looped\n",
    "\n",
    "\n",
    "        uu =testt.UserId.unique()\n",
    "        uunique_userids =uu.tolist()\n",
    "        uun = np.array(uunique_userids)\n",
    "        uuser_loop =np.repeat(uunique_userids,len_post) #user_ids_looped\n",
    "        post_data = np.array(upids)\n",
    "        user = np.array(user_loop)\n",
    "        model=self.get_model()\n",
    "        estimations = model.predict([user, post_data]) #predictions\n",
    "   \n",
    "        pid =pd.DataFrame(uupids)  #forming dataframes\n",
    "        uid =pd.DataFrame(uuser_loop)\n",
    "        estimation =pd.DataFrame(estimations)\n",
    "        dataa = pd.merge(estimation,pid,left_index =True,right_index = True)\n",
    "        data = pd.merge(dataa,uid,left_index = True, right_index= True)\n",
    "        data.rename(columns={'0_x':'estimation','0_y':'post_id',0:'user_id'},inplace = True)\n",
    "        final_data_sorted = data.groupby([\"user_id\"]).apply(lambda x: x.sort_values([\"estimation\"], ascending = False)).reset_index(drop=True)\n",
    "        return final_data_sorted\n",
    "\n"
   ]
  },
  {
   "cell_type": "code",
   "execution_count": 3,
   "metadata": {},
   "outputs": [
    {
     "name": "stdout",
     "output_type": "stream",
     "text": [
      "WARNING:tensorflow:From /home/gaurav/anaconda3/lib/python3.6/site-packages/tensorflow/python/framework/op_def_library.py:263: colocate_with (from tensorflow.python.framework.ops) is deprecated and will be removed in a future version.\n",
      "Instructions for updating:\n",
      "Colocations handled automatically by placer.\n",
      "WARNING:tensorflow:From /home/gaurav/anaconda3/lib/python3.6/site-packages/tensorflow/python/ops/math_ops.py:3066: to_int32 (from tensorflow.python.ops.math_ops) is deprecated and will be removed in a future version.\n",
      "Instructions for updating:\n",
      "Use tf.cast instead.\n",
      "Train on 174008 samples, validate on 19335 samples\n",
      "Epoch 1/1\n",
      "174008/174008 [==============================] - 23s 134us/step - loss: 0.2628 - mean_absolute_error: 0.3142 - val_loss: 0.2241 - val_mean_absolute_error: 0.2942\n"
     ]
    },
    {
     "data": {
      "text/plain": [
       "<keras.callbacks.History at 0x7f7e5c940dd8>"
      ]
     },
     "execution_count": 3,
     "metadata": {},
     "output_type": "execute_result"
    }
   ],
   "source": [
    "rec_model=read_train_model('/home/gaurav/Desktop/RecEng/Wall_Activity_User_Post.csv')\n",
    "rec_model.read_data()\n",
    "rec_model.define_model()\n",
    "rec_model.train_model()\n"
   ]
  },
  {
   "cell_type": "code",
   "execution_count": 21,
   "metadata": {},
   "outputs": [
    {
     "name": "stdout",
     "output_type": "stream",
     "text": [
      "model loaded\n"
     ]
    },
    {
     "name": "stdout",
     "output_type": "stream",
     "text": [
      "1:1954,2:2030,3:2395,4:2443,5:2571,6:2802,7:2895,8:3388,9:3403,10:3714,11:5499,12:5593,13:5736,14:5766,15:5996,16:6003,17:6122,18:6181,19:6198,20:6231,21:6268,22:6337,23:7181,24:7311,25:7513,26:7559,27:7594,28:7759,29:7905,30:8092,31:8117,32:8155,33:8162,34:8180,35:8250,36:8492,37:8637,38:8737,39:9001,40:9099,41:9131,42:9214,43:9502,44:9510,45:9585,46:9620,47:9713,48:9761,49:9951,50:10101,51:10239,52:10375,53:10429,54:10465,55:10539,56:10827,57:11269,58:11378,59:11952,60:12003,61:12338,62:12418,63:12625,64:12724,65:12729,66:12995,67:13268,68:13353,69:13471,70:13490,71:13570,72:13760,73:14007,74:14084,75:14088,76:14181,77:14284,78:14371,79:14438,80:14512,81:14556,82:14615,83:14658,84:14739,85:14745,86:14851,87:14854,88:14980,89:15001,90:15046,91:15071,92:15245,93:15307,94:15337,95:15405,96:15423,97:15447,98:15448,99:15497,100:15622,101:15645,102:15685,103:15696,104:15729,105:15907,106:15915,107:16085,108:16128,109:16257,110:16304,111:16307,112:16329,113:16559,114:16746,115:16747,116:16790,117:16994,118:17171,119:17238,120:17438,121:17605,122:2755,123:3530,124:17578,125:17804,126:222,127:402,128:577,129:1040,130:1801,131:2243,132:2846,133:2959,134:3438,135:4365,136:4945,137:5732,138:6132,139:6216,140:6263,141:6341,142:6511,143:6512,144:7049,145:7512,146:7939,147:7987,148:8157,149:8176,150:8365,151:8408,152:8524,153:8538,154:9144,155:9553,156:9586,157:10090,158:12628,159:12996,160:13532,161:13653,162:13961,163:14106,164:14162,165:14472,166:15053,167:15352,168:15372,169:15439,170:15536,171:15644,172:15803,173:16070,174:16238,175:16290,176:16300,177:16313,178:16420,179:16499,180:16696,181:16755,182:16931,183:16948,184:16978,185:17477,186:17714,187:18003,188:18194,189:18496,190:18511,191:18656,192:18728,193:18741,194:19956,195:21649,196:23460,197:25161,198:32448,199:5947,200:8541,201:13898,202:13958,203:2453,204:8219,205:13966,206:14139,207:14248,208:14319,209:14643,210:15101,211:15883,212:15930,213:4987,214:5117,215:5325,216:5716,217:6229,218:6270,219:6456,220:6482,221:6794,222:7692,223:7719,224:10045,225:13715,226:16708,227:17079,228:17082,229:17169,230:17243,231:17289,232:17307,233:17334,234:17638,235:15,236:62,237:188,238:1075,239:1410,240:1517,241:1663,242:1876,243:1942,244:1977,245:2160,246:2315,247:2329,248:2703,249:2774,250:2776,251:2815,252:2850,253:2867,254:3243,255:3251,256:3273,257:3400,258:3536,259:3544,260:3678,261:3781,262:3905,263:4086,264:4104,265:4128,266:4485,267:4720,268:4849,269:5013,270:5044,271:5055,272:5190,273:5239,274:5257,275:5335,276:5346,277:5353,278:5374,279:5508,280:5580,281:5625,282:5714,283:5723,284:6108,285:6184,286:6257,287:6276,288:6301,289:6302,290:6422,291:6436,292:6502,293:6563,294:6638,295:6723,296:6810,297:6811,298:6821,299:6844,300:6869,301:6883,302:6945,303:6960,304:7116,305:7150,306:7164,307:7208,308:7276,309:7285,310:7298,311:7327,312:7353,313:7445,314:7468,315:7506,316:7553,317:7678,318:7796,319:7800,320:7827,321:7955,322:8015,323:8018,324:8019,325:8042,326:8051,327:8113,328:8149,329:8168,330:8199,331:8204,332:8231,333:8247,334:8303,335:8556,336:8585,337:8615,338:8626,339:8645,340:8660,341:8671,342:8684,343:8754,344:8835,345:8853,346:8864,347:9051,348:9116,349:9146,350:9184,351:9195,352:9205,353:9216,354:9224,355:9251,356:9380,357:9437,358:9570,359:9726,360:9727,361:9737,362:9796,363:10051,364:10055,365:10074,366:10088,367:10264,368:10376,369:10512,370:10711,371:10865,372:10955,373:11282,374:11300,375:11331,376:11529,377:11564,378:11709,379:11817,380:11951,381:12045,382:12095,383:12178,384:12291,385:12511,386:12546,387:12651,388:12873,389:12884,390:13204,391:13280,392:13373,393:13429,394:13445,395:13519,396:13596,397:13749,398:13764,399:13776,400:13842,401:13855,402:14009,403:14136,404:14179,405:14234,406:14290,407:14299,408:14300,409:14303,410:14315,411:14325,412:14363,413:14370,414:14377,415:14382,416:14414,417:14425,418:14487,419:14525,420:14538,421:14541,422:14551,423:14576,424:14578,425:14646,426:14690,427:14709,428:14742,429:14750,430:14811,431:14888,432:14916,433:14959,434:15062,435:15072,436:15073,437:15087,438:15090,439:15093,440:15098,441:15102,442:15136,443:15144,444:15152,445:15160,446:15161,447:15227,448:15355,449:15374,450:15395,451:15445,452:15455,453:15473,454:15480,455:15526,456:15567,457:15594,458:15689,459:15804,460:15924,461:15980,462:16017,463:16020,464:16024,465:16049,466:16079,467:16203,468:16219,469:16259,470:16369,471:16397,472:16408,473:16521,474:16535,475:16683,476:16720,477:16817,478:16837,479:16871,480:16928,481:16944,482:17030,483:17035,484:17039,485:17053,486:17056,487:17067,488:17096,489:17134,490:17143,491:17427,492:17431,493:17472,494:17566,495:17571,496:17587,497:17616,498:17707,499:17710,500:17752,501:17822,502:17898,503:17947,504:18046,505:18051,506:18072,507:18078,508:18083,509:18084,510:18134,511:18152,512:18241,513:18275,514:18277,515:18290,516:18318,517:18320,518:18326,519:18358,520:18368,521:18457,522:18509,523:18554,524:18556,525:18571,526:18573,527:18612,528:18624,529:18635,530:18664,531:18717,532:18729,533:18732,534:18771,535:18777,536:18799,537:18803,538:18974,539:18985,540:19216,541:19286,542:19414,543:19433,544:19452,545:19591,546:19641,547:19784,548:19897,549:20176,550:20199,551:20416,552:20607,553:20690,554:20699,555:20737,556:20831,557:20888,558:20946,559:21026,560:21092,561:21096,562:21179,563:21230,564:21238,565:21245,566:21250,567:21646,568:21767,569:21940,570:21947,571:21951,572:21969,573:22028,574:22169,575:22270,576:22487,577:22489,578:22494,579:22645,580:22876,581:22883,582:22887,583:22935,584:22938,585:23011,586:23016,587:23099,588:23103,589:23116,590:23131,591:23219,592:23449,593:23636,594:23899,595:23997,596:24082,597:24126,598:24142,599:24153,600:24168,601:24254,602:24267,603:24319,604:24662,605:24826,606:25282,607:25579,608:26451,609:27264,610:27430,611:27684,612:28092,613:28236,614:28284,615:28442,616:28681,617:28724,618:28725,619:28887,620:29081,621:29248,622:29428,623:29479,624:29903,625:29914,626:30118,627:30176,628:30182,629:30607,630:30812,631:30888,632:30998,633:31101,634:31216,635:31331,636:31471,637:31641,638:32018,639:32236,640:32326,641:32352,642:32390,643:33409,644:33959,645:34291,646:2849,647:2902,648:3586,649:17631,650:15005,651:29892,652:30894,653:32979,654:7807,655:8021,656:8031,657:13996,658:14128,659:14368,660:14411,661:14609,662:4993,663:5342,664:5439,665:5604,666:6534,667:7828,668:16691,669:17867,670:4293,671:5180,672:5338,673:5535,674:5829,675:6134,676:6223,677:6484,678:17727,679:17901,680:558,681:799,682:907,683:1181,684:1409,685:1616,686:2066,687:2280,688:2321,689:2712,690:2720,691:2780,692:2782,693:2832,694:2859,695:3300,696:3345,697:3552,698:3563,699:3779,700:3944,701:3975,702:4052,703:4647,704:5133,705:5292,706:5318,707:5341,708:5344,709:5990,710:6016,711:6070,712:6084,713:6179,714:6792,715:6802,716:7159,717:7359,718:7362,719:7406,720:7426,721:7713,722:7778,723:7795,724:8062,725:8551,726:9062,727:9093,728:9239,729:9280,730:9392,731:9436,732:9491,733:9525,734:9627,735:9693,736:9928,737:9933,738:10109,739:10528,740:10824,741:11038,742:11479,743:11512,744:12638,745:12693,746:12766,747:13067,748:13150,749:13478,750:13706,751:13745,752:14191,753:14216,754:14237,755:14473,756:14492,757:14521,758:14577,759:14695,760:14701,761:14823,762:14891,763:15249,764:16012,765:16072,766:16255,767:16472,768:17162,769:17338,770:17419,771:17466,772:17508,773:17553,774:17755,775:17831,776:17870,777:17903,778:17936,779:18060,780:18063,781:18100,782:18192,783:18482,784:18536,785:18560,786:18924,787:19650,788:19720,789:21307,790:21333,791:22115,792:22168,793:22343,794:23503,795:24324,796:25023,797:25024,798:25280,799:25549,800:25815,801:26028,802:26850,803:27033,804:27514,805:27611,806:27643,807:27836,808:27903,809:27907,810:28347,811:28365,812:28367,813:28575,814:28655,815:28764,816:28828,817:29011,818:29166,819:29290,820:29515,821:29674,822:29724,823:29856,824:30061,825:30234,826:30342,827:30377,828:30793,829:31011,830:31047,831:31164,832:31173,833:31313,834:31352,835:31385,836:32523,837:32546,838:33190,839:34013,840:2112,841:2147,842:8418,843:13992,844:14028,845:2894,846:6468,847:10605,848:14295,849:18300,850:20108,851:28133,852:29362,853:30996,854:2714,855:2874,856:15120,857:17677,858:4991,859:5046,860:5107,861:5700,862:18074,863:18444,"
     ]
    },
    {
     "name": "stdout",
     "output_type": "stream",
     "text": [
      "864:10927,865:5288,866:5382,867:5422,868:5729,869:5932,870:6113,871:6798,872:6952,873:7338,874:2256,875:2536,876:2568,877:2715,878:2844,879:2937,880:5052,881:5606,882:5731,883:7200,884:7386,885:8103,886:8125,887:8572,888:8883,889:9557,890:9757,891:10105,892:11310,893:13229,894:13403,895:13864,896:13937,897:14500,898:14574,899:14747,900:14759,901:14767,902:14981,903:15021,904:15043,905:15100,906:15104,907:15189,908:15223,909:15753,910:16192,911:16291,912:16617,913:16999,914:17315,915:17539,916:17691,917:17738,918:18210,919:18211,920:18249,921:18372,922:18395,923:18409,924:18417,925:18634,926:18999,927:19170,928:12367,929:13754,930:2705,931:2730,932:3449,933:562,934:1945,935:2840,936:2904,937:4195,938:4294,939:4314,940:4961,941:5630,942:6009,943:6841,944:7351,945:7789,946:8520,947:8898,948:9003,949:10427,950:10857,951:11298,952:11874,953:12130,954:13070,955:13722,956:13895,957:13919,958:14297,959:14347,960:14555,961:15261,962:15303,963:15476,964:15876,965:17613,966:3624,967:2724,968:17350,969:4092,970:5910,971:18168,972:18507,973:7799,974:9059,975:9098,976:14622,977:14714,978:14857,979:15298,980:15368,981:15655,982:15763,983:15961,984:10,985:173,986:258,987:670,988:753,989:775,990:847,991:866,992:966,993:1283,994:1908,995:2171,996:2221,997:2287,998:2502,999:2624,1000:2826,1001:3475,1002:3620,1003:3776,1004:3937,1005:4000,1006:4296,1007:4495,1008:4526,1009:4789,1010:4859,1011:4890,1012:5009,1013:5082,1014:5120,1015:5294,1016:5321,1017:5529,1018:6243,1019:6520,1020:6529,1021:6725,1022:6808,1023:6909,1024:7147,1025:7305,1026:7380,1027:7570,1028:7844,1029:7909,1030:8017,1031:8721,1032:8852,1033:9129,1034:9230,1035:9260,1036:9465,1037:9629,1038:9637,1039:10140,1040:10166,1041:10567,1042:10679,1043:11916,1044:12140,1045:12148,1046:12160,1047:12979,1048:13020,1049:13265,1050:13436,1051:14282,1052:14304,1053:14343,1054:14845,1055:14985,1056:15133,1057:15155,1058:15433,1059:15462,1060:15471,1061:15489,1062:15702,1063:15723,1064:15879,1065:15965,1066:16194,1067:16285,1068:16335,1069:16462,1070:16487,1071:17682,1072:17731,1073:17879,1074:18292,1075:18426,1076:18541,1077:18679,1078:18730,1079:18912,1080:19066,1081:19277,1082:19791,1083:20183,1084:20599,1085:20665,1086:20826,1087:20947,1088:21255,1089:21264,1090:21483,1091:21927,1092:22063,1093:22236,1094:22991,1095:22994,1096:23578,1097:23694,1098:24160,1099:24283,1100:24507,1101:24855,1102:25103,1103:25182,1104:25242,1105:25734,1106:25800,1107:26115,1108:26340,1109:26512,1110:26949,1111:27128,1112:27551,1113:27633,1114:27644,1115:28049,1116:28319,1117:28621,1118:28676,1119:28872,1120:29238,1121:30787,1122:30916,1123:31468,1124:31693,1125:6875,1126:5744,1127:6315,1128:3370,1129:17676,1130:5232,1131:7659,1132:16467,1133:6204,1134:6377,1135:6537,1136:6806,1137:6922,1138:16605,1139:18114,1140:18461,1141:19147,1142:19662,1143:1047,1144:1812,1145:1902,1146:2026,1147:3247,1148:3375,1149:4055,1150:4532,1151:4816,1152:4904,1153:5091,1154:5694,1155:5753,1156:6237,1157:6291,1158:6442,1159:6518,1160:6603,1161:6783,1162:6801,1163:7368,1164:8158,1165:9000,1166:9177,1167:9302,1168:9995,1169:11060,1170:12696,1171:13371,1172:13925,1173:14635,1174:14853,1175:14926,1176:15049,1177:15365,1178:15390,1179:15600,1180:16028,1181:16426,1182:16443,1183:17367,1184:17410,1185:17687,1186:17957,1187:18846,1188:18887,1189:19110,1190:19177,1191:19198,1192:19614,1193:19805,1194:19860,1195:3871,1196:10263,1197:11383,1198:12105,1199:12429,1200:15331,1201:16391,1202:307,1203:323,1204:518,1205:1574,1206:2313,1207:2477,1208:2852,1209:3616,1210:4201,1211:4303,1212:5068,1213:5441,1214:7242,1215:7477,1216:7873,1217:8958,1218:9369,1219:9670,1220:10431,1221:11169,1222:11642,1223:12578,1224:12680,1225:14040,1226:14229,1227:17151,1228:17592,1229:17844,1230:18652,1231:19693,1232:26008,1233:28493,1234:28685,1235:29176,1236:29427,1237:30976,1238:726,1239:5020,1240:5263,1241:5449,1242:5849,1243:6508,1244:6861,1245:6873,1246:7322,1247:11033,1248:17294,1249:18151,1250:18752,1251:18763,1252:26624,1253:10650,1254:10849,1255:11607,1256:771,1257:8318,1258:8661,1259:9025,1260:9547,1261:13023,1262:14707,1263:16227,1264:1129,1265:5155,1266:5615,1267:7134,1268:7519,1269:13836,1270:13942,1271:16904,1272:16990,1273:17897,1274:18239,1275:18388,1276:18582,1277:2897,1278:6742,1279:14802,1280:329,1281:654,1282:1049,1283:1088,1284:1338,1285:1714,1286:1815,1287:1882,1288:1941,1289:2458,1290:2861,1291:2864,1292:2907,1293:2972,1294:2982,1295:3154,1296:3214,1297:3609,1298:4357,1299:4366,1300:4727,1301:4842,1302:5167,1303:5195,1304:5618,1305:5704,1306:5893,1307:6218,1308:6245,1309:6251,1310:6403,1311:6686,1312:6767,1313:7286,1314:7392,1315:7404,"
     ]
    },
    {
     "ename": "KeyboardInterrupt",
     "evalue": "",
     "output_type": "error",
     "traceback": [
      "\u001b[0;31m---------------------------------------------------------------------------\u001b[0m",
      "\u001b[0;31mKeyboardInterrupt\u001b[0m                         Traceback (most recent call last)",
      "\u001b[0;32m<ipython-input-21-6699c83f27a9>\u001b[0m in \u001b[0;36m<module>\u001b[0;34m\u001b[0m\n\u001b[1;32m     30\u001b[0m         \u001b[0mi\u001b[0m\u001b[0;34m+=\u001b[0m\u001b[0;36m1\u001b[0m\u001b[0;34m\u001b[0m\u001b[0;34m\u001b[0m\u001b[0m\n\u001b[1;32m     31\u001b[0m     \u001b[0;32mreturn\u001b[0m \u001b[0mfinal_df\u001b[0m\u001b[0;34m\u001b[0m\u001b[0;34m\u001b[0m\u001b[0m\n\u001b[0;32m---> 32\u001b[0;31m \u001b[0mfill_df\u001b[0m\u001b[0;34m(\u001b[0m\u001b[0musers\u001b[0m\u001b[0;34m,\u001b[0m\u001b[0mposts\u001b[0m\u001b[0;34m,\u001b[0m\u001b[0mmodel\u001b[0m\u001b[0;34m,\u001b[0m\u001b[0mfinal_df\u001b[0m\u001b[0;34m,\u001b[0m\u001b[0mi\u001b[0m\u001b[0;34m)\u001b[0m\u001b[0;34m\u001b[0m\u001b[0;34m\u001b[0m\u001b[0m\n\u001b[0m",
      "\u001b[0;32m<ipython-input-21-6699c83f27a9>\u001b[0m in \u001b[0;36mfill_df\u001b[0;34m(users, posts, model, final_df, i)\u001b[0m\n\u001b[1;32m     12\u001b[0m         \u001b[0mrec_posts_uid\u001b[0m\u001b[0;34m=\u001b[0m\u001b[0;34m[\u001b[0m\u001b[0;34m]\u001b[0m\u001b[0;34m\u001b[0m\u001b[0;34m\u001b[0m\u001b[0m\n\u001b[1;32m     13\u001b[0m         \u001b[0;32mfor\u001b[0m \u001b[0mpid\u001b[0m \u001b[0;32min\u001b[0m \u001b[0mposts\u001b[0m\u001b[0;34m:\u001b[0m\u001b[0;34m\u001b[0m\u001b[0;34m\u001b[0m\u001b[0m\n\u001b[0;32m---> 14\u001b[0;31m             \u001b[0mest\u001b[0m\u001b[0;34m=\u001b[0m\u001b[0mfloat\u001b[0m\u001b[0;34m(\u001b[0m\u001b[0mmodel\u001b[0m\u001b[0;34m.\u001b[0m\u001b[0mpredict\u001b[0m\u001b[0;34m(\u001b[0m\u001b[0;34m[\u001b[0m\u001b[0mnp\u001b[0m\u001b[0;34m.\u001b[0m\u001b[0marray\u001b[0m\u001b[0;34m(\u001b[0m\u001b[0;34m[\u001b[0m\u001b[0muid\u001b[0m\u001b[0;34m]\u001b[0m\u001b[0;34m)\u001b[0m\u001b[0;34m,\u001b[0m\u001b[0mnp\u001b[0m\u001b[0;34m.\u001b[0m\u001b[0marray\u001b[0m\u001b[0;34m(\u001b[0m\u001b[0;34m[\u001b[0m\u001b[0mpid\u001b[0m\u001b[0;34m]\u001b[0m\u001b[0;34m)\u001b[0m\u001b[0;34m]\u001b[0m\u001b[0;34m)\u001b[0m\u001b[0;34m)\u001b[0m\u001b[0;34m\u001b[0m\u001b[0;34m\u001b[0m\u001b[0m\n\u001b[0m\u001b[1;32m     15\u001b[0m             \u001b[0mrec_posts_uid\u001b[0m\u001b[0;34m.\u001b[0m\u001b[0mappend\u001b[0m\u001b[0;34m(\u001b[0m\u001b[0mest\u001b[0m\u001b[0;34m)\u001b[0m\u001b[0;34m\u001b[0m\u001b[0;34m\u001b[0m\u001b[0m\n\u001b[1;32m     16\u001b[0m         \u001b[0mfinal_df\u001b[0m\u001b[0;34m[\u001b[0m\u001b[0muid\u001b[0m\u001b[0;34m]\u001b[0m\u001b[0;34m=\u001b[0m\u001b[0mrec_posts_uid\u001b[0m\u001b[0;34m\u001b[0m\u001b[0;34m\u001b[0m\u001b[0m\n",
      "\u001b[0;32m~/anaconda3/lib/python3.6/site-packages/keras/engine/training.py\u001b[0m in \u001b[0;36mpredict\u001b[0;34m(self, x, batch_size, verbose, steps)\u001b[0m\n\u001b[1;32m   1167\u001b[0m                                             \u001b[0mbatch_size\u001b[0m\u001b[0;34m=\u001b[0m\u001b[0mbatch_size\u001b[0m\u001b[0;34m,\u001b[0m\u001b[0;34m\u001b[0m\u001b[0;34m\u001b[0m\u001b[0m\n\u001b[1;32m   1168\u001b[0m                                             \u001b[0mverbose\u001b[0m\u001b[0;34m=\u001b[0m\u001b[0mverbose\u001b[0m\u001b[0;34m,\u001b[0m\u001b[0;34m\u001b[0m\u001b[0;34m\u001b[0m\u001b[0m\n\u001b[0;32m-> 1169\u001b[0;31m                                             steps=steps)\n\u001b[0m\u001b[1;32m   1170\u001b[0m \u001b[0;34m\u001b[0m\u001b[0m\n\u001b[1;32m   1171\u001b[0m     def train_on_batch(self, x, y,\n",
      "\u001b[0;32m~/anaconda3/lib/python3.6/site-packages/keras/engine/training_arrays.py\u001b[0m in \u001b[0;36mpredict_loop\u001b[0;34m(model, f, ins, batch_size, verbose, steps)\u001b[0m\n\u001b[1;32m    292\u001b[0m                 \u001b[0mins_batch\u001b[0m\u001b[0;34m[\u001b[0m\u001b[0mi\u001b[0m\u001b[0;34m]\u001b[0m \u001b[0;34m=\u001b[0m \u001b[0mins_batch\u001b[0m\u001b[0;34m[\u001b[0m\u001b[0mi\u001b[0m\u001b[0;34m]\u001b[0m\u001b[0;34m.\u001b[0m\u001b[0mtoarray\u001b[0m\u001b[0;34m(\u001b[0m\u001b[0;34m)\u001b[0m\u001b[0;34m\u001b[0m\u001b[0;34m\u001b[0m\u001b[0m\n\u001b[1;32m    293\u001b[0m \u001b[0;34m\u001b[0m\u001b[0m\n\u001b[0;32m--> 294\u001b[0;31m             \u001b[0mbatch_outs\u001b[0m \u001b[0;34m=\u001b[0m \u001b[0mf\u001b[0m\u001b[0;34m(\u001b[0m\u001b[0mins_batch\u001b[0m\u001b[0;34m)\u001b[0m\u001b[0;34m\u001b[0m\u001b[0;34m\u001b[0m\u001b[0m\n\u001b[0m\u001b[1;32m    295\u001b[0m             \u001b[0mbatch_outs\u001b[0m \u001b[0;34m=\u001b[0m \u001b[0mto_list\u001b[0m\u001b[0;34m(\u001b[0m\u001b[0mbatch_outs\u001b[0m\u001b[0;34m)\u001b[0m\u001b[0;34m\u001b[0m\u001b[0;34m\u001b[0m\u001b[0m\n\u001b[1;32m    296\u001b[0m             \u001b[0;32mif\u001b[0m \u001b[0mbatch_index\u001b[0m \u001b[0;34m==\u001b[0m \u001b[0;36m0\u001b[0m\u001b[0;34m:\u001b[0m\u001b[0;34m\u001b[0m\u001b[0;34m\u001b[0m\u001b[0m\n",
      "\u001b[0;32m~/anaconda3/lib/python3.6/site-packages/keras/backend/tensorflow_backend.py\u001b[0m in \u001b[0;36m__call__\u001b[0;34m(self, inputs)\u001b[0m\n\u001b[1;32m   2713\u001b[0m                 \u001b[0;32mreturn\u001b[0m \u001b[0mself\u001b[0m\u001b[0;34m.\u001b[0m\u001b[0m_legacy_call\u001b[0m\u001b[0;34m(\u001b[0m\u001b[0minputs\u001b[0m\u001b[0;34m)\u001b[0m\u001b[0;34m\u001b[0m\u001b[0;34m\u001b[0m\u001b[0m\n\u001b[1;32m   2714\u001b[0m \u001b[0;34m\u001b[0m\u001b[0m\n\u001b[0;32m-> 2715\u001b[0;31m             \u001b[0;32mreturn\u001b[0m \u001b[0mself\u001b[0m\u001b[0;34m.\u001b[0m\u001b[0m_call\u001b[0m\u001b[0;34m(\u001b[0m\u001b[0minputs\u001b[0m\u001b[0;34m)\u001b[0m\u001b[0;34m\u001b[0m\u001b[0;34m\u001b[0m\u001b[0m\n\u001b[0m\u001b[1;32m   2716\u001b[0m         \u001b[0;32melse\u001b[0m\u001b[0;34m:\u001b[0m\u001b[0;34m\u001b[0m\u001b[0;34m\u001b[0m\u001b[0m\n\u001b[1;32m   2717\u001b[0m             \u001b[0;32mif\u001b[0m \u001b[0mpy_any\u001b[0m\u001b[0;34m(\u001b[0m\u001b[0mis_tensor\u001b[0m\u001b[0;34m(\u001b[0m\u001b[0mx\u001b[0m\u001b[0;34m)\u001b[0m \u001b[0;32mfor\u001b[0m \u001b[0mx\u001b[0m \u001b[0;32min\u001b[0m \u001b[0minputs\u001b[0m\u001b[0;34m)\u001b[0m\u001b[0;34m:\u001b[0m\u001b[0;34m\u001b[0m\u001b[0;34m\u001b[0m\u001b[0m\n",
      "\u001b[0;32m~/anaconda3/lib/python3.6/site-packages/keras/backend/tensorflow_backend.py\u001b[0m in \u001b[0;36m_call\u001b[0;34m(self, inputs)\u001b[0m\n\u001b[1;32m   2673\u001b[0m             \u001b[0mfetched\u001b[0m \u001b[0;34m=\u001b[0m \u001b[0mself\u001b[0m\u001b[0;34m.\u001b[0m\u001b[0m_callable_fn\u001b[0m\u001b[0;34m(\u001b[0m\u001b[0;34m*\u001b[0m\u001b[0marray_vals\u001b[0m\u001b[0;34m,\u001b[0m \u001b[0mrun_metadata\u001b[0m\u001b[0;34m=\u001b[0m\u001b[0mself\u001b[0m\u001b[0;34m.\u001b[0m\u001b[0mrun_metadata\u001b[0m\u001b[0;34m)\u001b[0m\u001b[0;34m\u001b[0m\u001b[0;34m\u001b[0m\u001b[0m\n\u001b[1;32m   2674\u001b[0m         \u001b[0;32melse\u001b[0m\u001b[0;34m:\u001b[0m\u001b[0;34m\u001b[0m\u001b[0;34m\u001b[0m\u001b[0m\n\u001b[0;32m-> 2675\u001b[0;31m             \u001b[0mfetched\u001b[0m \u001b[0;34m=\u001b[0m \u001b[0mself\u001b[0m\u001b[0;34m.\u001b[0m\u001b[0m_callable_fn\u001b[0m\u001b[0;34m(\u001b[0m\u001b[0;34m*\u001b[0m\u001b[0marray_vals\u001b[0m\u001b[0;34m)\u001b[0m\u001b[0;34m\u001b[0m\u001b[0;34m\u001b[0m\u001b[0m\n\u001b[0m\u001b[1;32m   2676\u001b[0m         \u001b[0;32mreturn\u001b[0m \u001b[0mfetched\u001b[0m\u001b[0;34m[\u001b[0m\u001b[0;34m:\u001b[0m\u001b[0mlen\u001b[0m\u001b[0;34m(\u001b[0m\u001b[0mself\u001b[0m\u001b[0;34m.\u001b[0m\u001b[0moutputs\u001b[0m\u001b[0;34m)\u001b[0m\u001b[0;34m]\u001b[0m\u001b[0;34m\u001b[0m\u001b[0;34m\u001b[0m\u001b[0m\n\u001b[1;32m   2677\u001b[0m \u001b[0;34m\u001b[0m\u001b[0m\n",
      "\u001b[0;32m~/anaconda3/lib/python3.6/site-packages/tensorflow/python/client/session.py\u001b[0m in \u001b[0;36m__call__\u001b[0;34m(self, *args, **kwargs)\u001b[0m\n\u001b[1;32m   1437\u001b[0m           ret = tf_session.TF_SessionRunCallable(\n\u001b[1;32m   1438\u001b[0m               \u001b[0mself\u001b[0m\u001b[0;34m.\u001b[0m\u001b[0m_session\u001b[0m\u001b[0;34m.\u001b[0m\u001b[0m_session\u001b[0m\u001b[0;34m,\u001b[0m \u001b[0mself\u001b[0m\u001b[0;34m.\u001b[0m\u001b[0m_handle\u001b[0m\u001b[0;34m,\u001b[0m \u001b[0margs\u001b[0m\u001b[0;34m,\u001b[0m \u001b[0mstatus\u001b[0m\u001b[0;34m,\u001b[0m\u001b[0;34m\u001b[0m\u001b[0;34m\u001b[0m\u001b[0m\n\u001b[0;32m-> 1439\u001b[0;31m               run_metadata_ptr)\n\u001b[0m\u001b[1;32m   1440\u001b[0m         \u001b[0;32mif\u001b[0m \u001b[0mrun_metadata\u001b[0m\u001b[0;34m:\u001b[0m\u001b[0;34m\u001b[0m\u001b[0;34m\u001b[0m\u001b[0m\n\u001b[1;32m   1441\u001b[0m           \u001b[0mproto_data\u001b[0m \u001b[0;34m=\u001b[0m \u001b[0mtf_session\u001b[0m\u001b[0;34m.\u001b[0m\u001b[0mTF_GetBuffer\u001b[0m\u001b[0;34m(\u001b[0m\u001b[0mrun_metadata_ptr\u001b[0m\u001b[0;34m)\u001b[0m\u001b[0;34m\u001b[0m\u001b[0;34m\u001b[0m\u001b[0m\n",
      "\u001b[0;31mKeyboardInterrupt\u001b[0m: "
     ]
    }
   ],
   "source": [
    "import numba as nb\n",
    "posts=rec_model.df_in['PostId'].unique()\n",
    "final_df=pd.DataFrame(index=posts)\n",
    "n_posts=len(posts)\n",
    "user=np.full(shape=n_posts,fill_value=28)\n",
    "users=rec_model.df_in['UserId'].unique()\n",
    "model=rec_model.get_model()\n",
    "i=1\n",
    "\n",
    "def fill_df(users,posts,model,final_df,i):\n",
    "    for uid in users:\n",
    "        rec_posts_uid=[]\n",
    "        for pid in posts:\n",
    "            est=float(model.predict([np.array([uid]),np.array([pid])]))\n",
    "            rec_posts_uid.append(est)\n",
    "        final_df[uid]=rec_posts_uid\n",
    "        print(str(i)+':'+str(uid),end=',')\n",
    "        i+=1\n",
    "    return final_df\n",
    "\n",
    "@nb.jit(nopython=True)\n",
    "def fill_df_nb(users,posts,model,final_df,i):\n",
    "    for uid in users:\n",
    "        rec_posts_uid=[]\n",
    "        for pid in posts:\n",
    "            est=float(model.predict([np.array([uid]),np.array([pid])]))\n",
    "            rec_posts_uid.append(est)\n",
    "        final_df[uid]=rec_posts_uid\n",
    "        print(str(i)+':'+str(uid))\n",
    "        i+=1\n",
    "    return final_df\n",
    "fill_df(users,posts,model,final_df,i)"
   ]
  },
  {
   "cell_type": "code",
   "execution_count": null,
   "metadata": {},
   "outputs": [],
   "source": []
  }
 ],
 "metadata": {
  "kernelspec": {
   "display_name": "Python 3",
   "language": "python",
   "name": "python3"
  },
  "language_info": {
   "codemirror_mode": {
    "name": "ipython",
    "version": 3
   },
   "file_extension": ".py",
   "mimetype": "text/x-python",
   "name": "python",
   "nbconvert_exporter": "python",
   "pygments_lexer": "ipython3",
   "version": "3.6.8"
  }
 },
 "nbformat": 4,
 "nbformat_minor": 2
}
